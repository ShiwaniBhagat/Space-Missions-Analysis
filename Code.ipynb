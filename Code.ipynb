import numpy as np
import pandas as pd
import matplotlib.pyplot as plt
import seaborn as sns
from scipy import stats
df=pd.read_csv("all_space_mission_launches.csv")
sns.set(style='whitegrid')
df.isnull().sum()
df['Datetime'] = pd.to_datetime(df['Datetime'], errors='coerce')  # convert to datetime
df['Year'] = df['Datetime'].dt.year
launches_per_year=df['Year'].value_counts().sort_index()
launches_per_year
plt.figure(figsize=(14, 6))
plt.title("Launches Per Year")
plt.xlabel('Year')
plt.ylabel('Number of Launches')
plt.plot(launches_per_year.index,launches_per_year.values,marker='o',color='purple')
plt.show()
success_rate = df[df['Mission_Status'] == 'Success']['Organisation'].value_counts() / df['Organisation'].value_counts() * 100
top_success = success_rate.dropna().sort_values(ascending=False).head(10)
top_success
plt.figure(figsize=(14,6))
sns.barplot(x=top_success.values,y=top_success.index, hue=top_success.index,palette='coolwarm',legend=False)
plt.xlabel('Success Rate (%)')
plt.title('Top 10 Organisation by Mission Success Rate')
plt.figure(figsize=(14,6))
sns.histplot(df['Price'].dropna(), kde=True, bins=30,color='Blue')
plt.title('Distribution of Launch Prices (in million USD)')
plt.xlabel('Launch Price (million USD)')
plt.ylabel('Frequency')
plt.tight_layout()
plt.show()
from scipy.stats import describe

price_stats = describe(df['Price'].dropna())
print(price_stats)
# Scatter plot for success rate by location
plt.figure(figsize=(12, 6))

# Scatter plot
plt.scatter(success_rate_by_location.values, success_rate_by_location.index, 
            color=sns.color_palette('magma', len(success_rate_by_location)), s=100)

plt.title('Success Rate by Top 10 Locations (Scatter Plot)')
plt.xlabel('Success Rate (%)')
plt.ylabel('Location')
plt.tight_layout()
plt.show()
status_counts = df['Mission_Status'].value_counts()
plt.figure(figsize=(6, 6))
plt.pie(status_counts, labels=status_counts.index, autopct='%1.1f%%', startangle=140, colors=sns.color_palette('Set2'))
plt.title('Mission Status Distribution')
plt.tight_layout()
plt.show()
rocket_counts = df['Rocket_Status'].value_counts()
plt.figure(figsize=(6, 6))
plt.pie(rocket_counts, labels=rocket_counts.index, autopct='%1.1f%%', startangle=90, wedgeprops=dict(width=0.4), colors=sns.color_palette('pastel'))
plt.title('Rocket Status Distribution (Donut)')
plt.tight_layout()
plt.show()
plt.figure(figsize=(10, 6))
sns.violinplot(data=df, x='Mission_Status', y='Price', hue='Mission_Status', 
               palette='coolwarm', legend=False)
plt.title('Violin Plot of Launch Price by Mission Status')
plt.tight_layout()
plt.show()
